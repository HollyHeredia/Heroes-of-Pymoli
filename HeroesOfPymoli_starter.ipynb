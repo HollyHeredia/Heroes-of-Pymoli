{
 "cells": [
  {
   "cell_type": "markdown",
   "metadata": {},
   "source": [
    "### Note\n",
    "* Instructions have been included for each segment. You do not have to follow them exactly, but they are included to help you think through the steps."
   ]
  },
  {
   "cell_type": "code",
   "execution_count": 17,
   "metadata": {},
   "outputs": [],
   "source": [
    "# Dependencies and Setup\n",
    "import pandas as pd\n",
    "\n",
    "# File to Load (Remember to Change These)\n",
    "file_to_load = \"Resources/purchase_data.csv\"\n",
    "\n",
    "# Read Purchasing File and store into Pandas data frame\n",
    "df = pd.read_csv(file_to_load)\n",
    "df = pd.DataFrame(df)"
   ]
  },
  {
   "cell_type": "markdown",
   "metadata": {},
   "source": [
    "## Player Count"
   ]
  },
  {
   "cell_type": "markdown",
   "metadata": {},
   "source": [
    "* Display the total number of players\n"
   ]
  },
  {
   "cell_type": "code",
   "execution_count": 3,
   "metadata": {},
   "outputs": [
    {
     "data": {
      "text/plain": [
       "<bound method NDFrame.head of      Purchase ID             SN  Age  Gender  Item ID  \\\n",
       "0              0        Lisim78   20    Male      108   \n",
       "1              1    Lisovynya38   40    Male      143   \n",
       "2              2     Ithergue48   24    Male       92   \n",
       "3              3  Chamassasya86   24    Male      100   \n",
       "4              4      Iskosia90   23    Male      131   \n",
       "..           ...            ...  ...     ...      ...   \n",
       "775          775     Aethedru70   21  Female       60   \n",
       "776          776         Iral74   21    Male      164   \n",
       "777          777     Yathecal72   20    Male       67   \n",
       "778          778        Sisur91    7    Male       92   \n",
       "779          779      Ennrian78   24    Male       50   \n",
       "\n",
       "                                     Item Name  Price  \n",
       "0    Extraction, Quickblade Of Trembling Hands   3.53  \n",
       "1                            Frenzied Scimitar   1.56  \n",
       "2                                 Final Critic   4.88  \n",
       "3                                  Blindscythe   3.27  \n",
       "4                                         Fury   1.44  \n",
       "..                                         ...    ...  \n",
       "775                                       Wolf   3.54  \n",
       "776                           Exiled Doomblade   1.63  \n",
       "777      Celeste, Incarnation of the Corrupted   3.46  \n",
       "778                               Final Critic   4.19  \n",
       "779                                       Dawn   4.60  \n",
       "\n",
       "[780 rows x 7 columns]>"
      ]
     },
     "execution_count": 3,
     "metadata": {},
     "output_type": "execute_result"
    }
   ],
   "source": []
  },
  {
   "cell_type": "code",
   "execution_count": 18,
   "metadata": {
    "scrolled": true
   },
   "outputs": [],
   "source": [
    "# Define total players\n",
    "df[\"SN\"].count()\n",
    "Total_Players = df[\"SN\"].count()"
   ]
  },
  {
   "cell_type": "code",
   "execution_count": 19,
   "metadata": {},
   "outputs": [
    {
     "name": "stdout",
     "output_type": "stream",
     "text": [
      "Total Players: 780\n"
     ]
    }
   ],
   "source": [
    "# Print total players count\n",
    "print(f'Total Players: {Total_Players}')"
   ]
  },
  {
   "cell_type": "markdown",
   "metadata": {},
   "source": [
    "## Purchasing Analysis (Total)"
   ]
  },
  {
   "cell_type": "markdown",
   "metadata": {},
   "source": [
    "* Run basic calculations to obtain number of unique items, average price, etc.\n",
    "\n",
    "\n",
    "* Create a summary data frame to hold the results\n",
    "\n",
    "\n",
    "* Optional: give the displayed data cleaner formatting\n",
    "\n",
    "\n",
    "* Display the summary data frame\n"
   ]
  },
  {
   "cell_type": "code",
   "execution_count": 20,
   "metadata": {
    "scrolled": true
   },
   "outputs": [],
   "source": [
    "# Obtain number of unique items and define it\n",
    "Unique_Item_Count = len(pd.unique(df[\"Item Name\"]))"
   ]
  },
  {
   "cell_type": "code",
   "execution_count": 21,
   "metadata": {},
   "outputs": [],
   "source": [
    "# Obtain average price\n",
    "Average_Price = df[\"Price\"].mean()"
   ]
  },
  {
   "cell_type": "code",
   "execution_count": 22,
   "metadata": {
    "scrolled": true
   },
   "outputs": [],
   "source": [
    "# Number of purchases\n",
    "Total_purchases = df[\"Price\"].count()"
   ]
  },
  {
   "cell_type": "code",
   "execution_count": 23,
   "metadata": {},
   "outputs": [],
   "source": [
    "# Total Revenue\n",
    "Total_Revenue = df[\"Price\"].sum()"
   ]
  },
  {
   "cell_type": "code",
   "execution_count": 24,
   "metadata": {},
   "outputs": [
    {
     "data": {
      "text/html": [
       "<div>\n",
       "<style scoped>\n",
       "    .dataframe tbody tr th:only-of-type {\n",
       "        vertical-align: middle;\n",
       "    }\n",
       "\n",
       "    .dataframe tbody tr th {\n",
       "        vertical-align: top;\n",
       "    }\n",
       "\n",
       "    .dataframe thead th {\n",
       "        text-align: right;\n",
       "    }\n",
       "</style>\n",
       "<table border=\"1\" class=\"dataframe\">\n",
       "  <thead>\n",
       "    <tr style=\"text-align: right;\">\n",
       "      <th></th>\n",
       "      <th>Number of Unique Items</th>\n",
       "      <th>Average Price</th>\n",
       "      <th>Number of Purchases</th>\n",
       "      <th>Total_Revenue</th>\n",
       "    </tr>\n",
       "  </thead>\n",
       "  <tbody>\n",
       "    <tr>\n",
       "      <th>0</th>\n",
       "      <td>179</td>\n",
       "      <td>$3.05</td>\n",
       "      <td>780</td>\n",
       "      <td>$2,379.77</td>\n",
       "    </tr>\n",
       "  </tbody>\n",
       "</table>\n",
       "</div>"
      ],
      "text/plain": [
       "   Number of Unique Items Average Price  Number of Purchases Total_Revenue\n",
       "0                     179         $3.05                  780     $2,379.77"
      ]
     },
     "execution_count": 24,
     "metadata": {},
     "output_type": "execute_result"
    }
   ],
   "source": [
    "# Summary table list\n",
    "Summary_Info = {\"Number of Unique Items\": [Unique_Item_Count],\n",
    "\"Average Price\": [Average_Price],\n",
    "\"Number of Purchases\": [Total_purchases],\n",
    "\"Total_Revenue\": [Total_Revenue]}\n",
    "\n",
    "Summary_df = pd.DataFrame(Summary_Info)\n",
    "Summary_df[\"Average Price\"] = Summary_df[\"Average Price\"].astype(float).map(\"${:,.2f}\".format)\n",
    "Summary_df[\"Total_Revenue\"] = Summary_df[\"Total_Revenue\"].astype(float).map(\"${:,.2f}\".format)\n",
    "Summary_df"
   ]
  },
  {
   "cell_type": "code",
   "execution_count": null,
   "metadata": {
    "scrolled": true
   },
   "outputs": [],
   "source": []
  },
  {
   "cell_type": "markdown",
   "metadata": {},
   "source": [
    "## Gender Demographics"
   ]
  },
  {
   "cell_type": "markdown",
   "metadata": {},
   "source": [
    "* Percentage and Count of Male Players\n",
    "\n",
    "\n",
    "* Percentage and Count of Female Players\n",
    "\n",
    "\n",
    "* Percentage and Count of Other / Non-Disclosed\n",
    "\n",
    "\n"
   ]
  },
  {
   "cell_type": "code",
   "execution_count": 25,
   "metadata": {},
   "outputs": [],
   "source": [
    "# Group by gender\n",
    "Gender_df = df.groupby(\"Gender\")"
   ]
  },
  {
   "cell_type": "code",
   "execution_count": 26,
   "metadata": {
    "scrolled": false
   },
   "outputs": [],
   "source": [
    "#Count of players by gender\n",
    "GenderCount_df = Gender_df[\"Price\"].count()"
   ]
  },
  {
   "cell_type": "code",
   "execution_count": 27,
   "metadata": {},
   "outputs": [],
   "source": [
    "# Percent of each gender\n",
    "Percent_of_Players = GenderCount_df / Total_purchases\n",
    "Percent_of_Players = Percent_of_Players.round(2)"
   ]
  },
  {
   "cell_type": "code",
   "execution_count": 28,
   "metadata": {
    "scrolled": true
   },
   "outputs": [],
   "source": [
    "# Merge GenderCount_df and Percent_of_Players\n",
    "GenderCountSummary = pd.merge(GenderCount_df, Percent_of_Players, on=\"Gender\")"
   ]
  },
  {
   "cell_type": "code",
   "execution_count": 29,
   "metadata": {},
   "outputs": [
    {
     "name": "stdout",
     "output_type": "stream",
     "text": [
      "                       Total Percentage of Players\n",
      "Gender                                            \n",
      "Female                   113                   14%\n",
      "Male                     652                   84%\n",
      "Other / Non-Disclosed     15                    2%\n"
     ]
    }
   ],
   "source": [
    "# Change column titles and add percent formatting\n",
    "GenderCountRenamed = GenderCountSummary.rename(columns={\"Price_x\": \"Total\", \"Price_y\": \"Percentage of Players\"})\n",
    "\n",
    "# Convert to DataFrame\n",
    "GenderCountFinal = pd.DataFrame(GenderCountRenamed)\n",
    "\n",
    "# Formatting\n",
    "GenderCountFinal[\"Percentage of Players\"] = GenderCountFinal[\"Percentage of Players\"].astype(float).map('{:.0%}'.format)\n",
    "print(GenderCountRenamed)"
   ]
  },
  {
   "cell_type": "code",
   "execution_count": 4,
   "metadata": {},
   "outputs": [
    {
     "data": {
      "text/html": [
       "<div>\n",
       "<style scoped>\n",
       "    .dataframe tbody tr th:only-of-type {\n",
       "        vertical-align: middle;\n",
       "    }\n",
       "\n",
       "    .dataframe tbody tr th {\n",
       "        vertical-align: top;\n",
       "    }\n",
       "\n",
       "    .dataframe thead th {\n",
       "        text-align: right;\n",
       "    }\n",
       "</style>\n",
       "<table border=\"1\" class=\"dataframe\">\n",
       "  <thead>\n",
       "    <tr style=\"text-align: right;\">\n",
       "      <th></th>\n",
       "      <th>Total Count</th>\n",
       "      <th>Percentage of Players</th>\n",
       "    </tr>\n",
       "  </thead>\n",
       "  <tbody>\n",
       "    <tr>\n",
       "      <th>Male</th>\n",
       "      <td>484</td>\n",
       "      <td>84.03%</td>\n",
       "    </tr>\n",
       "    <tr>\n",
       "      <th>Female</th>\n",
       "      <td>81</td>\n",
       "      <td>14.06%</td>\n",
       "    </tr>\n",
       "    <tr>\n",
       "      <th>Other / Non-Disclosed</th>\n",
       "      <td>11</td>\n",
       "      <td>1.91%</td>\n",
       "    </tr>\n",
       "  </tbody>\n",
       "</table>\n",
       "</div>"
      ],
      "text/plain": [
       "                       Total Count Percentage of Players\n",
       "Male                           484                84.03%\n",
       "Female                          81                14.06%\n",
       "Other / Non-Disclosed           11                 1.91%"
      ]
     },
     "execution_count": 4,
     "metadata": {},
     "output_type": "execute_result"
    }
   ],
   "source": []
  },
  {
   "cell_type": "markdown",
   "metadata": {},
   "source": [
    "\n",
    "## Purchasing Analysis (Gender)"
   ]
  },
  {
   "cell_type": "markdown",
   "metadata": {},
   "source": [
    "* Run basic calculations to obtain purchase count, avg. purchase price, avg. purchase total per person etc. by gender\n",
    "\n",
    "\n",
    "\n",
    "\n",
    "* Create a summary data frame to hold the results\n",
    "\n",
    "\n",
    "* Optional: give the displayed data cleaner formatting\n",
    "\n",
    "\n",
    "* Display the summary data frame"
   ]
  },
  {
   "cell_type": "code",
   "execution_count": 30,
   "metadata": {},
   "outputs": [],
   "source": [
    "# Sum together all the pricing for each gender\n",
    "TotalPurchase_df = Gender_df[\"Price\"].sum()"
   ]
  },
  {
   "cell_type": "code",
   "execution_count": 31,
   "metadata": {},
   "outputs": [],
   "source": [
    "# Find the Average Purchase price\n",
    "AveragePurchasePr_df = Gender_df[\"Price\"].mean()\n",
    "AveragePurchasePr_df = AveragePurchasePr_df.round(2)"
   ]
  },
  {
   "cell_type": "code",
   "execution_count": 32,
   "metadata": {
    "scrolled": true
   },
   "outputs": [],
   "source": [
    "# Avg Total Purchase per person - Count names for each gender\n",
    "Unique_names = df[[\"Gender\",\"SN\"]].groupby(\"Gender\").nunique()\n",
    "Unique_names = pd.DataFrame(Unique_names)"
   ]
  },
  {
   "cell_type": "code",
   "execution_count": 33,
   "metadata": {
    "scrolled": true
   },
   "outputs": [],
   "source": [
    "# Merge Player count and value total for each gender\n",
    "AveragePlayerValue_df = pd.merge(Unique_names, TotalPurchase_df, on=\"Gender\")"
   ]
  },
  {
   "cell_type": "code",
   "execution_count": 34,
   "metadata": {},
   "outputs": [],
   "source": [
    "# AveragePlayerValue_df to find average player value\n",
    "AvgPlayerValue = AveragePlayerValue_df['Price']/AveragePlayerValue_df['SN']\n",
    "AvgPlayerValue = AvgPlayerValue.round(2)\n",
    "\n",
    "AvgPlayerValue_df = pd.DataFrame(AvgPlayerValue)"
   ]
  },
  {
   "cell_type": "code",
   "execution_count": 35,
   "metadata": {},
   "outputs": [],
   "source": [
    "# Merge together tables\n",
    "GenderPurchaseSummary = pd.merge(GenderCount_df, TotalPurchase_df, on=\"Gender\")\n",
    "GenderPurchaseSummary2 = pd.merge(GenderPurchaseSummary, AveragePurchasePr_df, on=\"Gender\")\n",
    "GenderPurchaseSummary3 = pd.merge(GenderPurchaseSummary2, AvgPlayerValue_df, on=\"Gender\")"
   ]
  },
  {
   "cell_type": "code",
   "execution_count": 36,
   "metadata": {},
   "outputs": [
    {
     "data": {
      "text/html": [
       "<div>\n",
       "<style scoped>\n",
       "    .dataframe tbody tr th:only-of-type {\n",
       "        vertical-align: middle;\n",
       "    }\n",
       "\n",
       "    .dataframe tbody tr th {\n",
       "        vertical-align: top;\n",
       "    }\n",
       "\n",
       "    .dataframe thead th {\n",
       "        text-align: right;\n",
       "    }\n",
       "</style>\n",
       "<table border=\"1\" class=\"dataframe\">\n",
       "  <thead>\n",
       "    <tr style=\"text-align: right;\">\n",
       "      <th></th>\n",
       "      <th>PurchaseCount</th>\n",
       "      <th>Total Purchase Value</th>\n",
       "      <th>Average Purchase Price</th>\n",
       "      <th>Avg Total Purchase per Person</th>\n",
       "    </tr>\n",
       "    <tr>\n",
       "      <th>Gender</th>\n",
       "      <th></th>\n",
       "      <th></th>\n",
       "      <th></th>\n",
       "      <th></th>\n",
       "    </tr>\n",
       "  </thead>\n",
       "  <tbody>\n",
       "    <tr>\n",
       "      <th>Female</th>\n",
       "      <td>113</td>\n",
       "      <td>$361.94</td>\n",
       "      <td>$3.20</td>\n",
       "      <td>$4.47</td>\n",
       "    </tr>\n",
       "    <tr>\n",
       "      <th>Male</th>\n",
       "      <td>652</td>\n",
       "      <td>$1,967.64</td>\n",
       "      <td>$3.02</td>\n",
       "      <td>$4.07</td>\n",
       "    </tr>\n",
       "    <tr>\n",
       "      <th>Other / Non-Disclosed</th>\n",
       "      <td>15</td>\n",
       "      <td>$50.19</td>\n",
       "      <td>$3.35</td>\n",
       "      <td>$4.56</td>\n",
       "    </tr>\n",
       "  </tbody>\n",
       "</table>\n",
       "</div>"
      ],
      "text/plain": [
       "                       PurchaseCount Total Purchase Value  \\\n",
       "Gender                                                      \n",
       "Female                           113              $361.94   \n",
       "Male                             652            $1,967.64   \n",
       "Other / Non-Disclosed             15               $50.19   \n",
       "\n",
       "                      Average Purchase Price Avg Total Purchase per Person  \n",
       "Gender                                                                      \n",
       "Female                                 $3.20                         $4.47  \n",
       "Male                                   $3.02                         $4.07  \n",
       "Other / Non-Disclosed                  $3.35                         $4.56  "
      ]
     },
     "execution_count": 36,
     "metadata": {},
     "output_type": "execute_result"
    }
   ],
   "source": [
    "# Rename Columns\n",
    "GenderPurchaseSummaryRenamed = GenderPurchaseSummary3.rename(columns=\n",
    "    {\"Price_x\": \"PurchaseCount\", \"Price_y\": \"Total Purchase Value\", \"Price\": \"Average Purchase Price\", 0: \"Avg Total Purchase per Person\"})\n",
    "\n",
    "# Format\n",
    "GenderPurchaseSummaryRenamed[\"Total Purchase Value\"] = GenderPurchaseSummaryRenamed[\"Total Purchase Value\"].astype(float).map(\"${:,.2f}\".format)\n",
    "GenderPurchaseSummaryRenamed[\"Average Purchase Price\"] = GenderPurchaseSummaryRenamed[\"Average Purchase Price\"].astype(float).map(\"${:,.2f}\".format)\n",
    "GenderPurchaseSummaryRenamed[\"Avg Total Purchase per Person\"] = GenderPurchaseSummaryRenamed[\"Avg Total Purchase per Person\"].astype(float).map(\"${:,.2f}\".format)\n",
    "\n",
    "# Print\n",
    "GenderPurchaseSummaryRenamed"
   ]
  },
  {
   "cell_type": "code",
   "execution_count": null,
   "metadata": {},
   "outputs": [],
   "source": []
  },
  {
   "cell_type": "markdown",
   "metadata": {},
   "source": [
    "## Age Demographics"
   ]
  },
  {
   "cell_type": "markdown",
   "metadata": {},
   "source": [
    "* Establish bins for ages\n",
    "\n",
    "\n",
    "* Categorize the existing players using the age bins. Hint: use pd.cut()\n",
    "\n",
    "\n",
    "* Calculate the numbers and percentages by age group\n",
    "\n",
    "\n",
    "* Create a summary data frame to hold the results\n",
    "\n",
    "\n",
    "* Optional: round the percentage column to two decimal points\n",
    "\n",
    "\n",
    "* Display Age Demographics Table\n"
   ]
  },
  {
   "cell_type": "code",
   "execution_count": 37,
   "metadata": {},
   "outputs": [],
   "source": [
    "# Establish bins for player ages\n",
    "age_range = [0, 10, 15, 20, 25, 30, 35, 40, 110]\n",
    "age_labels = [\"<10\", \"10-14\", \"15-19\", \"20-24\", \"25-29\", \"30-34\", \"35-39\", \"40+\"]"
   ]
  },
  {
   "cell_type": "code",
   "execution_count": 38,
   "metadata": {},
   "outputs": [],
   "source": [
    "# Add column into original df to put in the bin labels\n",
    "df[\"Age range\"] = pd.cut(df[\"Age\"], age_range, labels=age_labels)\n",
    "Age_df = df"
   ]
  },
  {
   "cell_type": "code",
   "execution_count": 39,
   "metadata": {
    "scrolled": true
   },
   "outputs": [],
   "source": [
    "# Groupby new column\n",
    "AgeRange_df = Age_df.groupby(\"Age range\")"
   ]
  },
  {
   "cell_type": "code",
   "execution_count": 40,
   "metadata": {},
   "outputs": [],
   "source": [
    "# Count players in Age Range Groups\n",
    "AgeCount_df = AgeRange_df[\"Purchase ID\"].count()"
   ]
  },
  {
   "cell_type": "code",
   "execution_count": 41,
   "metadata": {},
   "outputs": [],
   "source": [
    "# Find the percent of players in each bin\n",
    "Percent_of_Players2 = AgeCount_df / Total_purchases\n",
    "Percent_of_Players2 = Percent_of_Players2.round(2)"
   ]
  },
  {
   "cell_type": "code",
   "execution_count": 42,
   "metadata": {
    "scrolled": true
   },
   "outputs": [],
   "source": [
    "# Merge tables\n",
    "AgeCountSummary = pd.merge(AgeCount_df, Percent_of_Players2, on=\"Age range\")"
   ]
  },
  {
   "cell_type": "code",
   "execution_count": 43,
   "metadata": {},
   "outputs": [
    {
     "data": {
      "text/html": [
       "<div>\n",
       "<style scoped>\n",
       "    .dataframe tbody tr th:only-of-type {\n",
       "        vertical-align: middle;\n",
       "    }\n",
       "\n",
       "    .dataframe tbody tr th {\n",
       "        vertical-align: top;\n",
       "    }\n",
       "\n",
       "    .dataframe thead th {\n",
       "        text-align: right;\n",
       "    }\n",
       "</style>\n",
       "<table border=\"1\" class=\"dataframe\">\n",
       "  <thead>\n",
       "    <tr style=\"text-align: right;\">\n",
       "      <th></th>\n",
       "      <th>Total Count</th>\n",
       "      <th>Percentage of Players</th>\n",
       "    </tr>\n",
       "    <tr>\n",
       "      <th>Age range</th>\n",
       "      <th></th>\n",
       "      <th></th>\n",
       "    </tr>\n",
       "  </thead>\n",
       "  <tbody>\n",
       "    <tr>\n",
       "      <th>&lt;10</th>\n",
       "      <td>32</td>\n",
       "      <td>4%</td>\n",
       "    </tr>\n",
       "    <tr>\n",
       "      <th>10-14</th>\n",
       "      <td>54</td>\n",
       "      <td>7%</td>\n",
       "    </tr>\n",
       "    <tr>\n",
       "      <th>15-19</th>\n",
       "      <td>200</td>\n",
       "      <td>26%</td>\n",
       "    </tr>\n",
       "    <tr>\n",
       "      <th>20-24</th>\n",
       "      <td>325</td>\n",
       "      <td>42%</td>\n",
       "    </tr>\n",
       "    <tr>\n",
       "      <th>25-29</th>\n",
       "      <td>77</td>\n",
       "      <td>10%</td>\n",
       "    </tr>\n",
       "    <tr>\n",
       "      <th>30-34</th>\n",
       "      <td>52</td>\n",
       "      <td>7%</td>\n",
       "    </tr>\n",
       "    <tr>\n",
       "      <th>35-39</th>\n",
       "      <td>33</td>\n",
       "      <td>4%</td>\n",
       "    </tr>\n",
       "    <tr>\n",
       "      <th>40+</th>\n",
       "      <td>7</td>\n",
       "      <td>1%</td>\n",
       "    </tr>\n",
       "  </tbody>\n",
       "</table>\n",
       "</div>"
      ],
      "text/plain": [
       "           Total Count Percentage of Players\n",
       "Age range                                   \n",
       "<10                 32                    4%\n",
       "10-14               54                    7%\n",
       "15-19              200                   26%\n",
       "20-24              325                   42%\n",
       "25-29               77                   10%\n",
       "30-34               52                    7%\n",
       "35-39               33                    4%\n",
       "40+                  7                    1%"
      ]
     },
     "execution_count": 43,
     "metadata": {},
     "output_type": "execute_result"
    }
   ],
   "source": [
    "# Rename Columns\n",
    "AgeCountSummary_Renamed = AgeCountSummary.rename(columns=\n",
    "    {\"Purchase ID_x\": \"Total Count\", \"Purchase ID_y\": \"Percentage of Players\"})\n",
    "# Change to Dataframe\n",
    "AgeCountSummary_df = pd.DataFrame(AgeCountSummary_Renamed)\n",
    "\n",
    "# Formatting\n",
    "AgeCountSummary_df[\"Percentage of Players\"] = AgeCountSummary_df[\"Percentage of Players\"].astype(float).map(\"{:.0%}\".format)\n",
    "\n",
    "# Print\n",
    "AgeCountSummary_df"
   ]
  },
  {
   "cell_type": "code",
   "execution_count": 6,
   "metadata": {
    "scrolled": true
   },
   "outputs": [
    {
     "data": {
      "text/html": [
       "<div>\n",
       "<style scoped>\n",
       "    .dataframe tbody tr th:only-of-type {\n",
       "        vertical-align: middle;\n",
       "    }\n",
       "\n",
       "    .dataframe tbody tr th {\n",
       "        vertical-align: top;\n",
       "    }\n",
       "\n",
       "    .dataframe thead th {\n",
       "        text-align: right;\n",
       "    }\n",
       "</style>\n",
       "<table border=\"1\" class=\"dataframe\">\n",
       "  <thead>\n",
       "    <tr style=\"text-align: right;\">\n",
       "      <th></th>\n",
       "      <th>Total Count</th>\n",
       "      <th>Percentage of Players</th>\n",
       "    </tr>\n",
       "  </thead>\n",
       "  <tbody>\n",
       "    <tr>\n",
       "      <th>&lt;10</th>\n",
       "      <td>17</td>\n",
       "      <td>2.95%</td>\n",
       "    </tr>\n",
       "    <tr>\n",
       "      <th>10-14</th>\n",
       "      <td>22</td>\n",
       "      <td>3.82%</td>\n",
       "    </tr>\n",
       "    <tr>\n",
       "      <th>15-19</th>\n",
       "      <td>107</td>\n",
       "      <td>18.58%</td>\n",
       "    </tr>\n",
       "    <tr>\n",
       "      <th>20-24</th>\n",
       "      <td>258</td>\n",
       "      <td>44.79%</td>\n",
       "    </tr>\n",
       "    <tr>\n",
       "      <th>25-29</th>\n",
       "      <td>77</td>\n",
       "      <td>13.37%</td>\n",
       "    </tr>\n",
       "    <tr>\n",
       "      <th>30-34</th>\n",
       "      <td>52</td>\n",
       "      <td>9.03%</td>\n",
       "    </tr>\n",
       "    <tr>\n",
       "      <th>35-39</th>\n",
       "      <td>31</td>\n",
       "      <td>5.38%</td>\n",
       "    </tr>\n",
       "    <tr>\n",
       "      <th>40+</th>\n",
       "      <td>12</td>\n",
       "      <td>2.08%</td>\n",
       "    </tr>\n",
       "  </tbody>\n",
       "</table>\n",
       "</div>"
      ],
      "text/plain": [
       "       Total Count Percentage of Players\n",
       "<10             17                 2.95%\n",
       "10-14           22                 3.82%\n",
       "15-19          107                18.58%\n",
       "20-24          258                44.79%\n",
       "25-29           77                13.37%\n",
       "30-34           52                 9.03%\n",
       "35-39           31                 5.38%\n",
       "40+             12                 2.08%"
      ]
     },
     "execution_count": 6,
     "metadata": {},
     "output_type": "execute_result"
    }
   ],
   "source": []
  },
  {
   "cell_type": "markdown",
   "metadata": {},
   "source": [
    "## Purchasing Analysis (Age)"
   ]
  },
  {
   "cell_type": "markdown",
   "metadata": {},
   "source": [
    "* Bin the purchase_data data frame by age\n",
    "\n",
    "\n",
    "* Run basic calculations to obtain purchase count, avg. purchase price, avg. purchase total per person etc. in the table below\n",
    "\n",
    "\n",
    "* Create a summary data frame to hold the results\n",
    "\n",
    "\n",
    "* Optional: give the displayed data cleaner formatting\n",
    "\n",
    "\n",
    "* Display the summary data frame"
   ]
  },
  {
   "cell_type": "code",
   "execution_count": 44,
   "metadata": {},
   "outputs": [],
   "source": [
    "# Count purchases\n",
    "PurchaseCount_df = AgeRange_df[\"Price\"].count()"
   ]
  },
  {
   "cell_type": "code",
   "execution_count": 45,
   "metadata": {},
   "outputs": [],
   "source": [
    "# Sum together all the pricing for each age\n",
    "TotalPurchaseAge_df = AgeRange_df[\"Price\"].sum()"
   ]
  },
  {
   "cell_type": "code",
   "execution_count": 46,
   "metadata": {
    "scrolled": true
   },
   "outputs": [],
   "source": [
    "# Average Purchase Price\n",
    "AveragePurchaseAge_df = AgeRange_df[\"Price\"].mean()\n",
    "AveragePurchaseAge_df = AveragePurchaseAge_df.round(2)"
   ]
  },
  {
   "cell_type": "code",
   "execution_count": 47,
   "metadata": {},
   "outputs": [],
   "source": [
    "# Avg Total Purchase per person - Count names for each gender\n",
    "Unique_names_age = Age_df[[\"Age range\",\"SN\"]].groupby(\"Age range\").nunique()\n",
    "Unique_names_age = pd.DataFrame(Unique_names_age)"
   ]
  },
  {
   "cell_type": "code",
   "execution_count": 48,
   "metadata": {},
   "outputs": [],
   "source": [
    "# Merge Player count and value total for each gender\n",
    "AveragePlayerValueAge_df = pd.merge(Unique_names_age, TotalPurchaseAge_df, on=\"Age range\")"
   ]
  },
  {
   "cell_type": "code",
   "execution_count": 49,
   "metadata": {},
   "outputs": [],
   "source": [
    "# Add mean column to AveragePlayerValue_df to find average player value\n",
    "AvgPlayerValueAge = AveragePlayerValueAge_df['Price']/AveragePlayerValueAge_df['SN']\n",
    "AvgPlayerValueAge = AvgPlayerValueAge.round(2)\n",
    "AvgPlayerValueAge = pd.DataFrame(AvgPlayerValueAge)"
   ]
  },
  {
   "cell_type": "code",
   "execution_count": 50,
   "metadata": {},
   "outputs": [],
   "source": [
    "# Merge Together to create summary table\n",
    "# PurchaseCount_df, TotalPurchaseAge_df, AveragePurchaseAge_df\n",
    "AgePurchaseSummary3 = pd.merge(PurchaseCount_df, TotalPurchaseAge_df, on=\"Age range\")\n",
    "AgePurchaseSummary2 = pd.merge(AgePurchaseSummary3, AveragePurchaseAge_df, on=\"Age range\")\n",
    "AgePurchaseSummary1 = pd.merge(AgePurchaseSummary2, AvgPlayerValueAge, on=\"Age range\")"
   ]
  },
  {
   "cell_type": "code",
   "execution_count": 51,
   "metadata": {},
   "outputs": [
    {
     "data": {
      "text/html": [
       "<div>\n",
       "<style scoped>\n",
       "    .dataframe tbody tr th:only-of-type {\n",
       "        vertical-align: middle;\n",
       "    }\n",
       "\n",
       "    .dataframe tbody tr th {\n",
       "        vertical-align: top;\n",
       "    }\n",
       "\n",
       "    .dataframe thead th {\n",
       "        text-align: right;\n",
       "    }\n",
       "</style>\n",
       "<table border=\"1\" class=\"dataframe\">\n",
       "  <thead>\n",
       "    <tr style=\"text-align: right;\">\n",
       "      <th></th>\n",
       "      <th>Purchase Count</th>\n",
       "      <th>Total Purchase Value</th>\n",
       "      <th>Average Purchase Price</th>\n",
       "      <th>Avg Total Purchase per Person</th>\n",
       "    </tr>\n",
       "    <tr>\n",
       "      <th>Age range</th>\n",
       "      <th></th>\n",
       "      <th></th>\n",
       "      <th></th>\n",
       "      <th></th>\n",
       "    </tr>\n",
       "  </thead>\n",
       "  <tbody>\n",
       "    <tr>\n",
       "      <th>&lt;10</th>\n",
       "      <td>32</td>\n",
       "      <td>$108.96</td>\n",
       "      <td>$3.40</td>\n",
       "      <td>$4.54</td>\n",
       "    </tr>\n",
       "    <tr>\n",
       "      <th>10-14</th>\n",
       "      <td>54</td>\n",
       "      <td>$156.60</td>\n",
       "      <td>$2.90</td>\n",
       "      <td>$3.82</td>\n",
       "    </tr>\n",
       "    <tr>\n",
       "      <th>15-19</th>\n",
       "      <td>200</td>\n",
       "      <td>$621.56</td>\n",
       "      <td>$3.11</td>\n",
       "      <td>$4.14</td>\n",
       "    </tr>\n",
       "    <tr>\n",
       "      <th>20-24</th>\n",
       "      <td>325</td>\n",
       "      <td>$981.64</td>\n",
       "      <td>$3.02</td>\n",
       "      <td>$4.23</td>\n",
       "    </tr>\n",
       "    <tr>\n",
       "      <th>25-29</th>\n",
       "      <td>77</td>\n",
       "      <td>$221.42</td>\n",
       "      <td>$2.88</td>\n",
       "      <td>$3.75</td>\n",
       "    </tr>\n",
       "    <tr>\n",
       "      <th>30-34</th>\n",
       "      <td>52</td>\n",
       "      <td>$155.71</td>\n",
       "      <td>$2.99</td>\n",
       "      <td>$4.21</td>\n",
       "    </tr>\n",
       "    <tr>\n",
       "      <th>35-39</th>\n",
       "      <td>33</td>\n",
       "      <td>$112.35</td>\n",
       "      <td>$3.40</td>\n",
       "      <td>$4.32</td>\n",
       "    </tr>\n",
       "    <tr>\n",
       "      <th>40+</th>\n",
       "      <td>7</td>\n",
       "      <td>$21.53</td>\n",
       "      <td>$3.08</td>\n",
       "      <td>$3.08</td>\n",
       "    </tr>\n",
       "  </tbody>\n",
       "</table>\n",
       "</div>"
      ],
      "text/plain": [
       "           Purchase Count Total Purchase Value Average Purchase Price  \\\n",
       "Age range                                                               \n",
       "<10                    32              $108.96                  $3.40   \n",
       "10-14                  54              $156.60                  $2.90   \n",
       "15-19                 200              $621.56                  $3.11   \n",
       "20-24                 325              $981.64                  $3.02   \n",
       "25-29                  77              $221.42                  $2.88   \n",
       "30-34                  52              $155.71                  $2.99   \n",
       "35-39                  33              $112.35                  $3.40   \n",
       "40+                     7               $21.53                  $3.08   \n",
       "\n",
       "          Avg Total Purchase per Person  \n",
       "Age range                                \n",
       "<10                               $4.54  \n",
       "10-14                             $3.82  \n",
       "15-19                             $4.14  \n",
       "20-24                             $4.23  \n",
       "25-29                             $3.75  \n",
       "30-34                             $4.21  \n",
       "35-39                             $4.32  \n",
       "40+                               $3.08  "
      ]
     },
     "execution_count": 51,
     "metadata": {},
     "output_type": "execute_result"
    }
   ],
   "source": [
    "# Rename Columns\n",
    "AgePurchaseSummary_Renamed = AgePurchaseSummary1.rename(columns=\n",
    "    {\"Price_x\": \"Purchase Count\", \"Price_y\": \"Total Purchase Value\", \"Price\": \"Average Purchase Price\", 0: \"Avg Total Purchase per Person\"})\n",
    "\n",
    "# Formatting\n",
    "AgePurchaseSummary_Renamed[\"Total Purchase Value\"] = AgePurchaseSummary_Renamed[\"Total Purchase Value\"].astype(float).map(\"${:,.2f}\".format)\n",
    "AgePurchaseSummary_Renamed[\"Average Purchase Price\"] = AgePurchaseSummary_Renamed[\"Average Purchase Price\"].astype(float).map(\"${:,.2f}\".format)\n",
    "AgePurchaseSummary_Renamed[\"Avg Total Purchase per Person\"] = AgePurchaseSummary_Renamed[\"Avg Total Purchase per Person\"].astype(float).map(\"${:,.2f}\".format)\n",
    "\n",
    "# Print\n",
    "AgePurchaseSummary_Renamed"
   ]
  },
  {
   "cell_type": "code",
   "execution_count": 7,
   "metadata": {
    "scrolled": true
   },
   "outputs": [
    {
     "data": {
      "text/html": [
       "<div>\n",
       "<style scoped>\n",
       "    .dataframe tbody tr th:only-of-type {\n",
       "        vertical-align: middle;\n",
       "    }\n",
       "\n",
       "    .dataframe tbody tr th {\n",
       "        vertical-align: top;\n",
       "    }\n",
       "\n",
       "    .dataframe thead th {\n",
       "        text-align: right;\n",
       "    }\n",
       "</style>\n",
       "<table border=\"1\" class=\"dataframe\">\n",
       "  <thead>\n",
       "    <tr style=\"text-align: right;\">\n",
       "      <th></th>\n",
       "      <th>Purchase Count</th>\n",
       "      <th>Average Purchase Price</th>\n",
       "      <th>Total Purchase Value</th>\n",
       "      <th>Avg Total Purchase per Person</th>\n",
       "    </tr>\n",
       "    <tr>\n",
       "      <th>Age Ranges</th>\n",
       "      <th></th>\n",
       "      <th></th>\n",
       "      <th></th>\n",
       "      <th></th>\n",
       "    </tr>\n",
       "  </thead>\n",
       "  <tbody>\n",
       "    <tr>\n",
       "      <th>&lt;10</th>\n",
       "      <td>23</td>\n",
       "      <td>$3.35</td>\n",
       "      <td>$77.13</td>\n",
       "      <td>$4.54</td>\n",
       "    </tr>\n",
       "    <tr>\n",
       "      <th>10-14</th>\n",
       "      <td>28</td>\n",
       "      <td>$2.96</td>\n",
       "      <td>$82.78</td>\n",
       "      <td>$3.76</td>\n",
       "    </tr>\n",
       "    <tr>\n",
       "      <th>15-19</th>\n",
       "      <td>136</td>\n",
       "      <td>$3.04</td>\n",
       "      <td>$412.89</td>\n",
       "      <td>$3.86</td>\n",
       "    </tr>\n",
       "    <tr>\n",
       "      <th>20-24</th>\n",
       "      <td>365</td>\n",
       "      <td>$3.05</td>\n",
       "      <td>$1,114.06</td>\n",
       "      <td>$4.32</td>\n",
       "    </tr>\n",
       "    <tr>\n",
       "      <th>25-29</th>\n",
       "      <td>101</td>\n",
       "      <td>$2.90</td>\n",
       "      <td>$293.00</td>\n",
       "      <td>$3.81</td>\n",
       "    </tr>\n",
       "    <tr>\n",
       "      <th>30-34</th>\n",
       "      <td>73</td>\n",
       "      <td>$2.93</td>\n",
       "      <td>$214.00</td>\n",
       "      <td>$4.12</td>\n",
       "    </tr>\n",
       "    <tr>\n",
       "      <th>35-39</th>\n",
       "      <td>41</td>\n",
       "      <td>$3.60</td>\n",
       "      <td>$147.67</td>\n",
       "      <td>$4.76</td>\n",
       "    </tr>\n",
       "    <tr>\n",
       "      <th>40+</th>\n",
       "      <td>13</td>\n",
       "      <td>$2.94</td>\n",
       "      <td>$38.24</td>\n",
       "      <td>$3.19</td>\n",
       "    </tr>\n",
       "  </tbody>\n",
       "</table>\n",
       "</div>"
      ],
      "text/plain": [
       "           Purchase Count Average Purchase Price Total Purchase Value  \\\n",
       "Age Ranges                                                              \n",
       "<10                    23                  $3.35               $77.13   \n",
       "10-14                  28                  $2.96               $82.78   \n",
       "15-19                 136                  $3.04              $412.89   \n",
       "20-24                 365                  $3.05            $1,114.06   \n",
       "25-29                 101                  $2.90              $293.00   \n",
       "30-34                  73                  $2.93              $214.00   \n",
       "35-39                  41                  $3.60              $147.67   \n",
       "40+                    13                  $2.94               $38.24   \n",
       "\n",
       "           Avg Total Purchase per Person  \n",
       "Age Ranges                                \n",
       "<10                                $4.54  \n",
       "10-14                              $3.76  \n",
       "15-19                              $3.86  \n",
       "20-24                              $4.32  \n",
       "25-29                              $3.81  \n",
       "30-34                              $4.12  \n",
       "35-39                              $4.76  \n",
       "40+                                $3.19  "
      ]
     },
     "execution_count": 7,
     "metadata": {},
     "output_type": "execute_result"
    }
   ],
   "source": []
  },
  {
   "cell_type": "markdown",
   "metadata": {},
   "source": [
    "## Top Spenders"
   ]
  },
  {
   "cell_type": "markdown",
   "metadata": {},
   "source": [
    "* Run basic calculations to obtain the results in the table below\n",
    "\n",
    "\n",
    "* Create a summary data frame to hold the results\n",
    "\n",
    "\n",
    "* Sort the total purchase value column in descending order\n",
    "\n",
    "\n",
    "* Optional: give the displayed data cleaner formatting\n",
    "\n",
    "\n",
    "* Display a preview of the summary data frame\n",
    "\n"
   ]
  },
  {
   "cell_type": "code",
   "execution_count": 52,
   "metadata": {},
   "outputs": [],
   "source": [
    "# Groupby column SN\n",
    "SN_df = df.groupby(\"SN\")"
   ]
  },
  {
   "cell_type": "code",
   "execution_count": 53,
   "metadata": {
    "scrolled": true
   },
   "outputs": [],
   "source": [
    "# Count Purchases\n",
    "SNPurchaseCount_df = SN_df[\"Price\"].count()"
   ]
  },
  {
   "cell_type": "code",
   "execution_count": 54,
   "metadata": {
    "scrolled": true
   },
   "outputs": [],
   "source": [
    "# Average Purchase Price\n",
    "AveragePurchaseSN_df = SN_df[\"Price\"].mean()\n",
    "AveragePurchaseSN_df = AveragePurchaseSN_df.round(2)"
   ]
  },
  {
   "cell_type": "code",
   "execution_count": 55,
   "metadata": {},
   "outputs": [],
   "source": [
    "# Total Purchase Value\n",
    "TotalPurchaseSN_df = SN_df[\"Price\"].sum()"
   ]
  },
  {
   "cell_type": "code",
   "execution_count": 56,
   "metadata": {},
   "outputs": [
    {
     "data": {
      "text/html": [
       "<div>\n",
       "<style scoped>\n",
       "    .dataframe tbody tr th:only-of-type {\n",
       "        vertical-align: middle;\n",
       "    }\n",
       "\n",
       "    .dataframe tbody tr th {\n",
       "        vertical-align: top;\n",
       "    }\n",
       "\n",
       "    .dataframe thead th {\n",
       "        text-align: right;\n",
       "    }\n",
       "</style>\n",
       "<table border=\"1\" class=\"dataframe\">\n",
       "  <thead>\n",
       "    <tr style=\"text-align: right;\">\n",
       "      <th></th>\n",
       "      <th>Price_x</th>\n",
       "      <th>Price_y</th>\n",
       "      <th>Price</th>\n",
       "    </tr>\n",
       "    <tr>\n",
       "      <th>SN</th>\n",
       "      <th></th>\n",
       "      <th></th>\n",
       "      <th></th>\n",
       "    </tr>\n",
       "  </thead>\n",
       "  <tbody>\n",
       "    <tr>\n",
       "      <th>Adairialis76</th>\n",
       "      <td>1</td>\n",
       "      <td>2.28</td>\n",
       "      <td>2.28</td>\n",
       "    </tr>\n",
       "    <tr>\n",
       "      <th>Adastirin33</th>\n",
       "      <td>1</td>\n",
       "      <td>4.48</td>\n",
       "      <td>4.48</td>\n",
       "    </tr>\n",
       "    <tr>\n",
       "      <th>Aeda94</th>\n",
       "      <td>1</td>\n",
       "      <td>4.91</td>\n",
       "      <td>4.91</td>\n",
       "    </tr>\n",
       "    <tr>\n",
       "      <th>Aela59</th>\n",
       "      <td>1</td>\n",
       "      <td>4.32</td>\n",
       "      <td>4.32</td>\n",
       "    </tr>\n",
       "    <tr>\n",
       "      <th>Aelaria33</th>\n",
       "      <td>1</td>\n",
       "      <td>1.79</td>\n",
       "      <td>1.79</td>\n",
       "    </tr>\n",
       "    <tr>\n",
       "      <th>...</th>\n",
       "      <td>...</td>\n",
       "      <td>...</td>\n",
       "      <td>...</td>\n",
       "    </tr>\n",
       "    <tr>\n",
       "      <th>Yathecal82</th>\n",
       "      <td>3</td>\n",
       "      <td>2.07</td>\n",
       "      <td>6.22</td>\n",
       "    </tr>\n",
       "    <tr>\n",
       "      <th>Yathedeu43</th>\n",
       "      <td>2</td>\n",
       "      <td>3.01</td>\n",
       "      <td>6.02</td>\n",
       "    </tr>\n",
       "    <tr>\n",
       "      <th>Yoishirrala98</th>\n",
       "      <td>1</td>\n",
       "      <td>4.58</td>\n",
       "      <td>4.58</td>\n",
       "    </tr>\n",
       "    <tr>\n",
       "      <th>Zhisrisu83</th>\n",
       "      <td>2</td>\n",
       "      <td>3.94</td>\n",
       "      <td>7.89</td>\n",
       "    </tr>\n",
       "    <tr>\n",
       "      <th>Zontibe81</th>\n",
       "      <td>3</td>\n",
       "      <td>2.68</td>\n",
       "      <td>8.03</td>\n",
       "    </tr>\n",
       "  </tbody>\n",
       "</table>\n",
       "<p>576 rows × 3 columns</p>\n",
       "</div>"
      ],
      "text/plain": [
       "               Price_x  Price_y  Price\n",
       "SN                                    \n",
       "Adairialis76         1     2.28   2.28\n",
       "Adastirin33          1     4.48   4.48\n",
       "Aeda94               1     4.91   4.91\n",
       "Aela59               1     4.32   4.32\n",
       "Aelaria33            1     1.79   1.79\n",
       "...                ...      ...    ...\n",
       "Yathecal82           3     2.07   6.22\n",
       "Yathedeu43           2     3.01   6.02\n",
       "Yoishirrala98        1     4.58   4.58\n",
       "Zhisrisu83           2     3.94   7.89\n",
       "Zontibe81            3     2.68   8.03\n",
       "\n",
       "[576 rows x 3 columns]"
      ]
     },
     "execution_count": 56,
     "metadata": {},
     "output_type": "execute_result"
    }
   ],
   "source": [
    "# Merge together tables\n",
    "# SNPurchaseCount_df, AveragePurchaseSN_df,TotalPurchaseSN_df\n",
    "SNPurchaseSummary3 = pd.merge(SNPurchaseCount_df, AveragePurchaseSN_df, on=\"SN\")\n",
    "SNPurchaseSummary2 = pd.merge(SNPurchaseSummary3, TotalPurchaseSN_df, on=\"SN\")\n",
    "SNPurchaseSummary2"
   ]
  },
  {
   "cell_type": "code",
   "execution_count": 58,
   "metadata": {},
   "outputs": [
    {
     "data": {
      "text/html": [
       "<div>\n",
       "<style scoped>\n",
       "    .dataframe tbody tr th:only-of-type {\n",
       "        vertical-align: middle;\n",
       "    }\n",
       "\n",
       "    .dataframe tbody tr th {\n",
       "        vertical-align: top;\n",
       "    }\n",
       "\n",
       "    .dataframe thead th {\n",
       "        text-align: right;\n",
       "    }\n",
       "</style>\n",
       "<table border=\"1\" class=\"dataframe\">\n",
       "  <thead>\n",
       "    <tr style=\"text-align: right;\">\n",
       "      <th></th>\n",
       "      <th>Purchase Count</th>\n",
       "      <th>Average Purchase Price</th>\n",
       "      <th>Total Purchase Value</th>\n",
       "    </tr>\n",
       "    <tr>\n",
       "      <th>SN</th>\n",
       "      <th></th>\n",
       "      <th></th>\n",
       "      <th></th>\n",
       "    </tr>\n",
       "  </thead>\n",
       "  <tbody>\n",
       "    <tr>\n",
       "      <th>Adairialis76</th>\n",
       "      <td>1</td>\n",
       "      <td>$2.28</td>\n",
       "      <td>$2.28</td>\n",
       "    </tr>\n",
       "    <tr>\n",
       "      <th>Adastirin33</th>\n",
       "      <td>1</td>\n",
       "      <td>$4.48</td>\n",
       "      <td>$4.48</td>\n",
       "    </tr>\n",
       "    <tr>\n",
       "      <th>Aeda94</th>\n",
       "      <td>1</td>\n",
       "      <td>$4.91</td>\n",
       "      <td>$4.91</td>\n",
       "    </tr>\n",
       "    <tr>\n",
       "      <th>Aela59</th>\n",
       "      <td>1</td>\n",
       "      <td>$4.32</td>\n",
       "      <td>$4.32</td>\n",
       "    </tr>\n",
       "    <tr>\n",
       "      <th>Aelaria33</th>\n",
       "      <td>1</td>\n",
       "      <td>$1.79</td>\n",
       "      <td>$1.79</td>\n",
       "    </tr>\n",
       "    <tr>\n",
       "      <th>...</th>\n",
       "      <td>...</td>\n",
       "      <td>...</td>\n",
       "      <td>...</td>\n",
       "    </tr>\n",
       "    <tr>\n",
       "      <th>Yathecal82</th>\n",
       "      <td>3</td>\n",
       "      <td>$2.07</td>\n",
       "      <td>$6.22</td>\n",
       "    </tr>\n",
       "    <tr>\n",
       "      <th>Yathedeu43</th>\n",
       "      <td>2</td>\n",
       "      <td>$3.01</td>\n",
       "      <td>$6.02</td>\n",
       "    </tr>\n",
       "    <tr>\n",
       "      <th>Yoishirrala98</th>\n",
       "      <td>1</td>\n",
       "      <td>$4.58</td>\n",
       "      <td>$4.58</td>\n",
       "    </tr>\n",
       "    <tr>\n",
       "      <th>Zhisrisu83</th>\n",
       "      <td>2</td>\n",
       "      <td>$3.94</td>\n",
       "      <td>$7.89</td>\n",
       "    </tr>\n",
       "    <tr>\n",
       "      <th>Zontibe81</th>\n",
       "      <td>3</td>\n",
       "      <td>$2.68</td>\n",
       "      <td>$8.03</td>\n",
       "    </tr>\n",
       "  </tbody>\n",
       "</table>\n",
       "<p>576 rows × 3 columns</p>\n",
       "</div>"
      ],
      "text/plain": [
       "               Purchase Count Average Purchase Price Total Purchase Value\n",
       "SN                                                                       \n",
       "Adairialis76                1                  $2.28                $2.28\n",
       "Adastirin33                 1                  $4.48                $4.48\n",
       "Aeda94                      1                  $4.91                $4.91\n",
       "Aela59                      1                  $4.32                $4.32\n",
       "Aelaria33                   1                  $1.79                $1.79\n",
       "...                       ...                    ...                  ...\n",
       "Yathecal82                  3                  $2.07                $6.22\n",
       "Yathedeu43                  2                  $3.01                $6.02\n",
       "Yoishirrala98               1                  $4.58                $4.58\n",
       "Zhisrisu83                  2                  $3.94                $7.89\n",
       "Zontibe81                   3                  $2.68                $8.03\n",
       "\n",
       "[576 rows x 3 columns]"
      ]
     },
     "execution_count": 58,
     "metadata": {},
     "output_type": "execute_result"
    }
   ],
   "source": [
    "# Rename\n",
    "SNPurchaseSummary_Renamed = SNPurchaseSummary2.rename(columns=\n",
    "    {\"Price_x\": \"Purchase Count\", \"Price_y\": \"Average Purchase Price\", \"Price\": \"Total Purchase Value\"})\n",
    "\n",
    "# Turn in to dataframe\n",
    "SNPurchaseSummary_Renamed = pd.DataFrame(SNPurchaseSummary_Renamed)\n",
    "\n",
    "# Formatting\n",
    "SNPurchaseSummary_Renamed[\"Total Purchase Value\"] = SNPurchaseSummary_Renamed[\"Total Purchase Value\"].astype(float).map(\"${:,.2f}\".format)\n",
    "SNPurchaseSummary_Renamed[\"Average Purchase Price\"] = SNPurchaseSummary_Renamed[\"Average Purchase Price\"].astype(float).map(\"${:,.2f}\".format)\n",
    "\n",
    "# Print\n",
    "SNPurchaseSummary_Renamed"
   ]
  },
  {
   "cell_type": "code",
   "execution_count": 59,
   "metadata": {},
   "outputs": [
    {
     "data": {
      "text/html": [
       "<div>\n",
       "<style scoped>\n",
       "    .dataframe tbody tr th:only-of-type {\n",
       "        vertical-align: middle;\n",
       "    }\n",
       "\n",
       "    .dataframe tbody tr th {\n",
       "        vertical-align: top;\n",
       "    }\n",
       "\n",
       "    .dataframe thead th {\n",
       "        text-align: right;\n",
       "    }\n",
       "</style>\n",
       "<table border=\"1\" class=\"dataframe\">\n",
       "  <thead>\n",
       "    <tr style=\"text-align: right;\">\n",
       "      <th></th>\n",
       "      <th>Purchase Count</th>\n",
       "      <th>Average Purchase Price</th>\n",
       "      <th>Total Purchase Value</th>\n",
       "    </tr>\n",
       "    <tr>\n",
       "      <th>SN</th>\n",
       "      <th></th>\n",
       "      <th></th>\n",
       "      <th></th>\n",
       "    </tr>\n",
       "  </thead>\n",
       "  <tbody>\n",
       "    <tr>\n",
       "      <th>Haillyrgue51</th>\n",
       "      <td>3</td>\n",
       "      <td>$3.17</td>\n",
       "      <td>$9.50</td>\n",
       "    </tr>\n",
       "    <tr>\n",
       "      <th>Phistym51</th>\n",
       "      <td>2</td>\n",
       "      <td>$4.75</td>\n",
       "      <td>$9.50</td>\n",
       "    </tr>\n",
       "    <tr>\n",
       "      <th>Lamil79</th>\n",
       "      <td>2</td>\n",
       "      <td>$4.64</td>\n",
       "      <td>$9.29</td>\n",
       "    </tr>\n",
       "    <tr>\n",
       "      <th>Aina42</th>\n",
       "      <td>3</td>\n",
       "      <td>$3.07</td>\n",
       "      <td>$9.22</td>\n",
       "    </tr>\n",
       "    <tr>\n",
       "      <th>Saesrideu94</th>\n",
       "      <td>2</td>\n",
       "      <td>$4.59</td>\n",
       "      <td>$9.18</td>\n",
       "    </tr>\n",
       "    <tr>\n",
       "      <th>...</th>\n",
       "      <td>...</td>\n",
       "      <td>...</td>\n",
       "      <td>...</td>\n",
       "    </tr>\n",
       "    <tr>\n",
       "      <th>Qilalista41</th>\n",
       "      <td>1</td>\n",
       "      <td>$1.02</td>\n",
       "      <td>$1.02</td>\n",
       "    </tr>\n",
       "    <tr>\n",
       "      <th>Ililsasya43</th>\n",
       "      <td>1</td>\n",
       "      <td>$1.02</td>\n",
       "      <td>$1.02</td>\n",
       "    </tr>\n",
       "    <tr>\n",
       "      <th>Aidai61</th>\n",
       "      <td>1</td>\n",
       "      <td>$1.01</td>\n",
       "      <td>$1.01</td>\n",
       "    </tr>\n",
       "    <tr>\n",
       "      <th>Chanirra79</th>\n",
       "      <td>1</td>\n",
       "      <td>$1.01</td>\n",
       "      <td>$1.01</td>\n",
       "    </tr>\n",
       "    <tr>\n",
       "      <th>Alo38</th>\n",
       "      <td>1</td>\n",
       "      <td>$1.00</td>\n",
       "      <td>$1.00</td>\n",
       "    </tr>\n",
       "  </tbody>\n",
       "</table>\n",
       "<p>576 rows × 3 columns</p>\n",
       "</div>"
      ],
      "text/plain": [
       "              Purchase Count Average Purchase Price Total Purchase Value\n",
       "SN                                                                      \n",
       "Haillyrgue51               3                  $3.17                $9.50\n",
       "Phistym51                  2                  $4.75                $9.50\n",
       "Lamil79                    2                  $4.64                $9.29\n",
       "Aina42                     3                  $3.07                $9.22\n",
       "Saesrideu94                2                  $4.59                $9.18\n",
       "...                      ...                    ...                  ...\n",
       "Qilalista41                1                  $1.02                $1.02\n",
       "Ililsasya43                1                  $1.02                $1.02\n",
       "Aidai61                    1                  $1.01                $1.01\n",
       "Chanirra79                 1                  $1.01                $1.01\n",
       "Alo38                      1                  $1.00                $1.00\n",
       "\n",
       "[576 rows x 3 columns]"
      ]
     },
     "execution_count": 59,
     "metadata": {},
     "output_type": "execute_result"
    }
   ],
   "source": [
    "# Sort Total Purchase Value in decending order\n",
    "SNPurchasesSummary_sorted = SNPurchaseSummary_Renamed.sort_values(\"Total Purchase Value\", ascending=False)\n",
    "\n",
    "# Print\n",
    "SNPurchasesSummary_sorted"
   ]
  },
  {
   "cell_type": "code",
   "execution_count": 8,
   "metadata": {
    "scrolled": true
   },
   "outputs": [
    {
     "data": {
      "text/html": [
       "<div>\n",
       "<style scoped>\n",
       "    .dataframe tbody tr th:only-of-type {\n",
       "        vertical-align: middle;\n",
       "    }\n",
       "\n",
       "    .dataframe tbody tr th {\n",
       "        vertical-align: top;\n",
       "    }\n",
       "\n",
       "    .dataframe thead th {\n",
       "        text-align: right;\n",
       "    }\n",
       "</style>\n",
       "<table border=\"1\" class=\"dataframe\">\n",
       "  <thead>\n",
       "    <tr style=\"text-align: right;\">\n",
       "      <th></th>\n",
       "      <th>Purchase Count</th>\n",
       "      <th>Average Purchase Price</th>\n",
       "      <th>Total Purchase Value</th>\n",
       "    </tr>\n",
       "    <tr>\n",
       "      <th>SN</th>\n",
       "      <th></th>\n",
       "      <th></th>\n",
       "      <th></th>\n",
       "    </tr>\n",
       "  </thead>\n",
       "  <tbody>\n",
       "    <tr>\n",
       "      <th>Lisosia93</th>\n",
       "      <td>5</td>\n",
       "      <td>$3.79</td>\n",
       "      <td>$18.96</td>\n",
       "    </tr>\n",
       "    <tr>\n",
       "      <th>Idastidru52</th>\n",
       "      <td>4</td>\n",
       "      <td>$3.86</td>\n",
       "      <td>$15.45</td>\n",
       "    </tr>\n",
       "    <tr>\n",
       "      <th>Chamjask73</th>\n",
       "      <td>3</td>\n",
       "      <td>$4.61</td>\n",
       "      <td>$13.83</td>\n",
       "    </tr>\n",
       "    <tr>\n",
       "      <th>Iral74</th>\n",
       "      <td>4</td>\n",
       "      <td>$3.40</td>\n",
       "      <td>$13.62</td>\n",
       "    </tr>\n",
       "    <tr>\n",
       "      <th>Iskadarya95</th>\n",
       "      <td>3</td>\n",
       "      <td>$4.37</td>\n",
       "      <td>$13.10</td>\n",
       "    </tr>\n",
       "  </tbody>\n",
       "</table>\n",
       "</div>"
      ],
      "text/plain": [
       "             Purchase Count Average Purchase Price Total Purchase Value\n",
       "SN                                                                     \n",
       "Lisosia93                 5                  $3.79               $18.96\n",
       "Idastidru52               4                  $3.86               $15.45\n",
       "Chamjask73                3                  $4.61               $13.83\n",
       "Iral74                    4                  $3.40               $13.62\n",
       "Iskadarya95               3                  $4.37               $13.10"
      ]
     },
     "execution_count": 8,
     "metadata": {},
     "output_type": "execute_result"
    }
   ],
   "source": []
  },
  {
   "cell_type": "markdown",
   "metadata": {},
   "source": [
    "## Most Popular Items"
   ]
  },
  {
   "cell_type": "markdown",
   "metadata": {},
   "source": [
    "* Retrieve the Item ID, Item Name, and Item Price columns\n",
    "\n",
    "\n",
    "* Group by Item ID and Item Name. Perform calculations to obtain purchase count, average item price, and total purchase value\n",
    "\n",
    "\n",
    "* Create a summary data frame to hold the results\n",
    "\n",
    "\n",
    "* Sort the purchase count column in descending order\n",
    "\n",
    "\n",
    "* Optional: give the displayed data cleaner formatting\n",
    "\n",
    "\n",
    "* Display a preview of the summary data frame\n",
    "\n"
   ]
  },
  {
   "cell_type": "code",
   "execution_count": 60,
   "metadata": {},
   "outputs": [],
   "source": [
    "# Retrieve the Item ID, Item Name, and Item Price columns\n",
    "PopularItem_df = df[['Item ID', 'Item Name', 'Price']]"
   ]
  },
  {
   "cell_type": "code",
   "execution_count": 61,
   "metadata": {},
   "outputs": [],
   "source": [
    "# Group by Item ID and Item name\n",
    "PopularItem_grouped = PopularItem_df.groupby([\"Item ID\", \"Item Name\"])"
   ]
  },
  {
   "cell_type": "code",
   "execution_count": 62,
   "metadata": {},
   "outputs": [],
   "source": [
    "# Obtain purchase count\n",
    "PurchaseCount_PopularItem = PopularItem_grouped[\"Price\"].count()"
   ]
  },
  {
   "cell_type": "code",
   "execution_count": 63,
   "metadata": {},
   "outputs": [],
   "source": [
    "# Obtain average item price\n",
    "AvgPrice_PopularItem = PopularItem_grouped[\"Price\"].mean()\n",
    "AvgPrice_PopularItem = AvgPrice_PopularItem.round(2)"
   ]
  },
  {
   "cell_type": "code",
   "execution_count": 64,
   "metadata": {},
   "outputs": [],
   "source": [
    "# Obtain Total purchase value per item\n",
    "TotalSum_PopularItem = PopularItem_grouped[\"Price\"].sum()\n",
    "TotalSum_PopularItem = TotalSum_PopularItem.round(2)"
   ]
  },
  {
   "cell_type": "code",
   "execution_count": 65,
   "metadata": {},
   "outputs": [],
   "source": [
    "# Merge dataframes together\n",
    "PopularItemSummary2 = pd.merge(PurchaseCount_PopularItem,AvgPrice_PopularItem, on=\"Item Name\")\n",
    "PopularItemSummary1 = pd.merge(PopularItemSummary2,TotalSum_PopularItem, on=\"Item Name\")"
   ]
  },
  {
   "cell_type": "code",
   "execution_count": 66,
   "metadata": {},
   "outputs": [
    {
     "data": {
      "text/html": [
       "<div>\n",
       "<style scoped>\n",
       "    .dataframe tbody tr th:only-of-type {\n",
       "        vertical-align: middle;\n",
       "    }\n",
       "\n",
       "    .dataframe tbody tr th {\n",
       "        vertical-align: top;\n",
       "    }\n",
       "\n",
       "    .dataframe thead th {\n",
       "        text-align: right;\n",
       "    }\n",
       "</style>\n",
       "<table border=\"1\" class=\"dataframe\">\n",
       "  <thead>\n",
       "    <tr style=\"text-align: right;\">\n",
       "      <th></th>\n",
       "      <th>Purchase Count</th>\n",
       "      <th>Item Price</th>\n",
       "      <th>Total Purchase Value</th>\n",
       "    </tr>\n",
       "    <tr>\n",
       "      <th>Item Name</th>\n",
       "      <th></th>\n",
       "      <th></th>\n",
       "      <th></th>\n",
       "    </tr>\n",
       "  </thead>\n",
       "  <tbody>\n",
       "    <tr>\n",
       "      <th>Splinter</th>\n",
       "      <td>4</td>\n",
       "      <td>$1.28</td>\n",
       "      <td>$5.12</td>\n",
       "    </tr>\n",
       "    <tr>\n",
       "      <th>Crucifer</th>\n",
       "      <td>4</td>\n",
       "      <td>$2.94</td>\n",
       "      <td>$11.77</td>\n",
       "    </tr>\n",
       "    <tr>\n",
       "      <th>Verdict</th>\n",
       "      <td>6</td>\n",
       "      <td>$2.48</td>\n",
       "      <td>$14.88</td>\n",
       "    </tr>\n",
       "    <tr>\n",
       "      <th>Phantomlight</th>\n",
       "      <td>6</td>\n",
       "      <td>$2.49</td>\n",
       "      <td>$14.94</td>\n",
       "    </tr>\n",
       "    <tr>\n",
       "      <th>Bloodlord's Fetish</th>\n",
       "      <td>5</td>\n",
       "      <td>$1.70</td>\n",
       "      <td>$8.50</td>\n",
       "    </tr>\n",
       "    <tr>\n",
       "      <th>...</th>\n",
       "      <td>...</td>\n",
       "      <td>...</td>\n",
       "      <td>...</td>\n",
       "    </tr>\n",
       "    <tr>\n",
       "      <th>Oathbreaker, Last Hope of the Breaking Storm</th>\n",
       "      <td>12</td>\n",
       "      <td>$4.23</td>\n",
       "      <td>$50.76</td>\n",
       "    </tr>\n",
       "    <tr>\n",
       "      <th>Wolf, Promise of the Moonwalker</th>\n",
       "      <td>6</td>\n",
       "      <td>$4.48</td>\n",
       "      <td>$26.88</td>\n",
       "    </tr>\n",
       "    <tr>\n",
       "      <th>Reaper's Toll</th>\n",
       "      <td>5</td>\n",
       "      <td>$1.66</td>\n",
       "      <td>$8.30</td>\n",
       "    </tr>\n",
       "    <tr>\n",
       "      <th>Toothpick</th>\n",
       "      <td>3</td>\n",
       "      <td>$4.03</td>\n",
       "      <td>$12.09</td>\n",
       "    </tr>\n",
       "    <tr>\n",
       "      <th>Dragon's Greatsword</th>\n",
       "      <td>3</td>\n",
       "      <td>$1.09</td>\n",
       "      <td>$3.27</td>\n",
       "    </tr>\n",
       "  </tbody>\n",
       "</table>\n",
       "<p>179 rows × 3 columns</p>\n",
       "</div>"
      ],
      "text/plain": [
       "                                              Purchase Count Item Price  \\\n",
       "Item Name                                                                 \n",
       "Splinter                                                   4      $1.28   \n",
       "Crucifer                                                   4      $2.94   \n",
       "Verdict                                                    6      $2.48   \n",
       "Phantomlight                                               6      $2.49   \n",
       "Bloodlord's Fetish                                         5      $1.70   \n",
       "...                                                      ...        ...   \n",
       "Oathbreaker, Last Hope of the Breaking Storm              12      $4.23   \n",
       "Wolf, Promise of the Moonwalker                            6      $4.48   \n",
       "Reaper's Toll                                              5      $1.66   \n",
       "Toothpick                                                  3      $4.03   \n",
       "Dragon's Greatsword                                        3      $1.09   \n",
       "\n",
       "                                             Total Purchase Value  \n",
       "Item Name                                                          \n",
       "Splinter                                                    $5.12  \n",
       "Crucifer                                                   $11.77  \n",
       "Verdict                                                    $14.88  \n",
       "Phantomlight                                               $14.94  \n",
       "Bloodlord's Fetish                                          $8.50  \n",
       "...                                                           ...  \n",
       "Oathbreaker, Last Hope of the Breaking Storm               $50.76  \n",
       "Wolf, Promise of the Moonwalker                            $26.88  \n",
       "Reaper's Toll                                               $8.30  \n",
       "Toothpick                                                  $12.09  \n",
       "Dragon's Greatsword                                         $3.27  \n",
       "\n",
       "[179 rows x 3 columns]"
      ]
     },
     "execution_count": 66,
     "metadata": {},
     "output_type": "execute_result"
    }
   ],
   "source": [
    "# Rename Columns\n",
    "PopularItemSummary_renamed = PopularItemSummary1.rename(columns = {\"Price_x\": \"Purchase Count\", \"Price_y\": \"Item Price\", \"Price\": \"Total Purchase Value\"})\n",
    "\n",
    "# Data frame\n",
    "PopularItemSummary_renamed = pd.DataFrame(PopularItemSummary_renamed)\n",
    "\n",
    "# Formatting\n",
    "PopularItemSummary_renamed[\"Item Price\"] = PopularItemSummary_renamed[\"Item Price\"].astype(float).map(\"${:,.2f}\".format)\n",
    "PopularItemSummary_renamed[\"Total Purchase Value\"] = PopularItemSummary_renamed[\"Total Purchase Value\"].astype(float).map(\"${:,.2f}\".format)\n",
    "\n",
    "# Print\n",
    "PopularItemSummary_renamed"
   ]
  },
  {
   "cell_type": "code",
   "execution_count": 9,
   "metadata": {
    "scrolled": false
   },
   "outputs": [
    {
     "data": {
      "text/html": [
       "<div>\n",
       "<style scoped>\n",
       "    .dataframe tbody tr th:only-of-type {\n",
       "        vertical-align: middle;\n",
       "    }\n",
       "\n",
       "    .dataframe tbody tr th {\n",
       "        vertical-align: top;\n",
       "    }\n",
       "\n",
       "    .dataframe thead th {\n",
       "        text-align: right;\n",
       "    }\n",
       "</style>\n",
       "<table border=\"1\" class=\"dataframe\">\n",
       "  <thead>\n",
       "    <tr style=\"text-align: right;\">\n",
       "      <th></th>\n",
       "      <th></th>\n",
       "      <th>Purchase Count</th>\n",
       "      <th>Item Price</th>\n",
       "      <th>Total Purchase Value</th>\n",
       "    </tr>\n",
       "    <tr>\n",
       "      <th>Item ID</th>\n",
       "      <th>Item Name</th>\n",
       "      <th></th>\n",
       "      <th></th>\n",
       "      <th></th>\n",
       "    </tr>\n",
       "  </thead>\n",
       "  <tbody>\n",
       "    <tr>\n",
       "      <th>92</th>\n",
       "      <th>Final Critic</th>\n",
       "      <td>13</td>\n",
       "      <td>$4.61</td>\n",
       "      <td>$59.99</td>\n",
       "    </tr>\n",
       "    <tr>\n",
       "      <th>178</th>\n",
       "      <th>Oathbreaker, Last Hope of the Breaking Storm</th>\n",
       "      <td>12</td>\n",
       "      <td>$4.23</td>\n",
       "      <td>$50.76</td>\n",
       "    </tr>\n",
       "    <tr>\n",
       "      <th>145</th>\n",
       "      <th>Fiery Glass Crusader</th>\n",
       "      <td>9</td>\n",
       "      <td>$4.58</td>\n",
       "      <td>$41.22</td>\n",
       "    </tr>\n",
       "    <tr>\n",
       "      <th>132</th>\n",
       "      <th>Persuasion</th>\n",
       "      <td>9</td>\n",
       "      <td>$3.22</td>\n",
       "      <td>$28.99</td>\n",
       "    </tr>\n",
       "    <tr>\n",
       "      <th>108</th>\n",
       "      <th>Extraction, Quickblade Of Trembling Hands</th>\n",
       "      <td>9</td>\n",
       "      <td>$3.53</td>\n",
       "      <td>$31.77</td>\n",
       "    </tr>\n",
       "  </tbody>\n",
       "</table>\n",
       "</div>"
      ],
      "text/plain": [
       "                                                     Purchase Count  \\\n",
       "Item ID Item Name                                                     \n",
       "92      Final Critic                                             13   \n",
       "178     Oathbreaker, Last Hope of the Breaking Storm             12   \n",
       "145     Fiery Glass Crusader                                      9   \n",
       "132     Persuasion                                                9   \n",
       "108     Extraction, Quickblade Of Trembling Hands                 9   \n",
       "\n",
       "                                                     Item Price  \\\n",
       "Item ID Item Name                                                 \n",
       "92      Final Critic                                      $4.61   \n",
       "178     Oathbreaker, Last Hope of the Breaking Storm      $4.23   \n",
       "145     Fiery Glass Crusader                              $4.58   \n",
       "132     Persuasion                                        $3.22   \n",
       "108     Extraction, Quickblade Of Trembling Hands         $3.53   \n",
       "\n",
       "                                                     Total Purchase Value  \n",
       "Item ID Item Name                                                          \n",
       "92      Final Critic                                               $59.99  \n",
       "178     Oathbreaker, Last Hope of the Breaking Storm               $50.76  \n",
       "145     Fiery Glass Crusader                                       $41.22  \n",
       "132     Persuasion                                                 $28.99  \n",
       "108     Extraction, Quickblade Of Trembling Hands                  $31.77  "
      ]
     },
     "execution_count": 9,
     "metadata": {},
     "output_type": "execute_result"
    }
   ],
   "source": []
  },
  {
   "cell_type": "markdown",
   "metadata": {},
   "source": [
    "## Most Profitable Items"
   ]
  },
  {
   "cell_type": "markdown",
   "metadata": {},
   "source": [
    "* Sort the above table by total purchase value in descending order\n",
    "\n",
    "\n",
    "* Optional: give the displayed data cleaner formatting\n",
    "\n",
    "\n",
    "* Display a preview of the data frame\n",
    "\n"
   ]
  },
  {
   "cell_type": "code",
   "execution_count": 67,
   "metadata": {},
   "outputs": [
    {
     "data": {
      "text/html": [
       "<div>\n",
       "<style scoped>\n",
       "    .dataframe tbody tr th:only-of-type {\n",
       "        vertical-align: middle;\n",
       "    }\n",
       "\n",
       "    .dataframe tbody tr th {\n",
       "        vertical-align: top;\n",
       "    }\n",
       "\n",
       "    .dataframe thead th {\n",
       "        text-align: right;\n",
       "    }\n",
       "</style>\n",
       "<table border=\"1\" class=\"dataframe\">\n",
       "  <thead>\n",
       "    <tr style=\"text-align: right;\">\n",
       "      <th></th>\n",
       "      <th>Purchase Count</th>\n",
       "      <th>Item Price</th>\n",
       "      <th>Total Purchase Value</th>\n",
       "    </tr>\n",
       "    <tr>\n",
       "      <th>Item Name</th>\n",
       "      <th></th>\n",
       "      <th></th>\n",
       "      <th></th>\n",
       "    </tr>\n",
       "  </thead>\n",
       "  <tbody>\n",
       "    <tr>\n",
       "      <th>Stormfury Mace</th>\n",
       "      <td>2</td>\n",
       "      <td>$4.99</td>\n",
       "      <td>$9.98</td>\n",
       "    </tr>\n",
       "    <tr>\n",
       "      <th>Chaos, Ender of the End</th>\n",
       "      <td>5</td>\n",
       "      <td>$1.98</td>\n",
       "      <td>$9.90</td>\n",
       "    </tr>\n",
       "    <tr>\n",
       "      <th>Stormfury Longsword</th>\n",
       "      <td>2</td>\n",
       "      <td>$4.93</td>\n",
       "      <td>$9.86</td>\n",
       "    </tr>\n",
       "    <tr>\n",
       "      <th>The Void, Vengeance of Dark Magic</th>\n",
       "      <td>4</td>\n",
       "      <td>$2.37</td>\n",
       "      <td>$9.48</td>\n",
       "    </tr>\n",
       "    <tr>\n",
       "      <th>Frenzied Scimitar</th>\n",
       "      <td>6</td>\n",
       "      <td>$1.56</td>\n",
       "      <td>$9.36</td>\n",
       "    </tr>\n",
       "    <tr>\n",
       "      <th>...</th>\n",
       "      <td>...</td>\n",
       "      <td>...</td>\n",
       "      <td>...</td>\n",
       "    </tr>\n",
       "    <tr>\n",
       "      <th>Crying Steel Sickle</th>\n",
       "      <td>3</td>\n",
       "      <td>$3.41</td>\n",
       "      <td>$10.23</td>\n",
       "    </tr>\n",
       "    <tr>\n",
       "      <th>Severance</th>\n",
       "      <td>3</td>\n",
       "      <td>$3.40</td>\n",
       "      <td>$10.20</td>\n",
       "    </tr>\n",
       "    <tr>\n",
       "      <th>Suspension</th>\n",
       "      <td>7</td>\n",
       "      <td>$1.44</td>\n",
       "      <td>$10.08</td>\n",
       "    </tr>\n",
       "    <tr>\n",
       "      <th>Gladiator's Glaive</th>\n",
       "      <td>1</td>\n",
       "      <td>$1.93</td>\n",
       "      <td>$1.93</td>\n",
       "    </tr>\n",
       "    <tr>\n",
       "      <th>The Decapitator</th>\n",
       "      <td>1</td>\n",
       "      <td>$1.75</td>\n",
       "      <td>$1.75</td>\n",
       "    </tr>\n",
       "  </tbody>\n",
       "</table>\n",
       "<p>179 rows × 3 columns</p>\n",
       "</div>"
      ],
      "text/plain": [
       "                                   Purchase Count Item Price  \\\n",
       "Item Name                                                      \n",
       "Stormfury Mace                                  2      $4.99   \n",
       "Chaos, Ender of the End                         5      $1.98   \n",
       "Stormfury Longsword                             2      $4.93   \n",
       "The Void, Vengeance of Dark Magic               4      $2.37   \n",
       "Frenzied Scimitar                               6      $1.56   \n",
       "...                                           ...        ...   \n",
       "Crying Steel Sickle                             3      $3.41   \n",
       "Severance                                       3      $3.40   \n",
       "Suspension                                      7      $1.44   \n",
       "Gladiator's Glaive                              1      $1.93   \n",
       "The Decapitator                                 1      $1.75   \n",
       "\n",
       "                                  Total Purchase Value  \n",
       "Item Name                                               \n",
       "Stormfury Mace                                   $9.98  \n",
       "Chaos, Ender of the End                          $9.90  \n",
       "Stormfury Longsword                              $9.86  \n",
       "The Void, Vengeance of Dark Magic                $9.48  \n",
       "Frenzied Scimitar                                $9.36  \n",
       "...                                                ...  \n",
       "Crying Steel Sickle                             $10.23  \n",
       "Severance                                       $10.20  \n",
       "Suspension                                      $10.08  \n",
       "Gladiator's Glaive                               $1.93  \n",
       "The Decapitator                                  $1.75  \n",
       "\n",
       "[179 rows x 3 columns]"
      ]
     },
     "execution_count": 67,
     "metadata": {},
     "output_type": "execute_result"
    }
   ],
   "source": [
    "# Most Profitable items - sorting the above table decending by Total Purchase Value\n",
    "ProfitableItems = PopularItemSummary_renamed.sort_values(\"Total Purchase Value\", ascending=False)\n",
    "# Data frame\n",
    "ProfitableItems = pd.DataFrame(ProfitableItems)\n",
    "# Print\n",
    "ProfitableItems"
   ]
  },
  {
   "cell_type": "code",
   "execution_count": 10,
   "metadata": {
    "scrolled": true
   },
   "outputs": [
    {
     "data": {
      "text/html": [
       "<div>\n",
       "<style scoped>\n",
       "    .dataframe tbody tr th:only-of-type {\n",
       "        vertical-align: middle;\n",
       "    }\n",
       "\n",
       "    .dataframe tbody tr th {\n",
       "        vertical-align: top;\n",
       "    }\n",
       "\n",
       "    .dataframe thead th {\n",
       "        text-align: right;\n",
       "    }\n",
       "</style>\n",
       "<table border=\"1\" class=\"dataframe\">\n",
       "  <thead>\n",
       "    <tr style=\"text-align: right;\">\n",
       "      <th></th>\n",
       "      <th></th>\n",
       "      <th>Purchase Count</th>\n",
       "      <th>Item Price</th>\n",
       "      <th>Total Purchase Value</th>\n",
       "    </tr>\n",
       "    <tr>\n",
       "      <th>Item ID</th>\n",
       "      <th>Item Name</th>\n",
       "      <th></th>\n",
       "      <th></th>\n",
       "      <th></th>\n",
       "    </tr>\n",
       "  </thead>\n",
       "  <tbody>\n",
       "    <tr>\n",
       "      <th>92</th>\n",
       "      <th>Final Critic</th>\n",
       "      <td>13</td>\n",
       "      <td>$4.61</td>\n",
       "      <td>$59.99</td>\n",
       "    </tr>\n",
       "    <tr>\n",
       "      <th>178</th>\n",
       "      <th>Oathbreaker, Last Hope of the Breaking Storm</th>\n",
       "      <td>12</td>\n",
       "      <td>$4.23</td>\n",
       "      <td>$50.76</td>\n",
       "    </tr>\n",
       "    <tr>\n",
       "      <th>82</th>\n",
       "      <th>Nirvana</th>\n",
       "      <td>9</td>\n",
       "      <td>$4.90</td>\n",
       "      <td>$44.10</td>\n",
       "    </tr>\n",
       "    <tr>\n",
       "      <th>145</th>\n",
       "      <th>Fiery Glass Crusader</th>\n",
       "      <td>9</td>\n",
       "      <td>$4.58</td>\n",
       "      <td>$41.22</td>\n",
       "    </tr>\n",
       "    <tr>\n",
       "      <th>103</th>\n",
       "      <th>Singed Scalpel</th>\n",
       "      <td>8</td>\n",
       "      <td>$4.35</td>\n",
       "      <td>$34.80</td>\n",
       "    </tr>\n",
       "  </tbody>\n",
       "</table>\n",
       "</div>"
      ],
      "text/plain": [
       "                                                     Purchase Count  \\\n",
       "Item ID Item Name                                                     \n",
       "92      Final Critic                                             13   \n",
       "178     Oathbreaker, Last Hope of the Breaking Storm             12   \n",
       "82      Nirvana                                                   9   \n",
       "145     Fiery Glass Crusader                                      9   \n",
       "103     Singed Scalpel                                            8   \n",
       "\n",
       "                                                     Item Price  \\\n",
       "Item ID Item Name                                                 \n",
       "92      Final Critic                                      $4.61   \n",
       "178     Oathbreaker, Last Hope of the Breaking Storm      $4.23   \n",
       "82      Nirvana                                           $4.90   \n",
       "145     Fiery Glass Crusader                              $4.58   \n",
       "103     Singed Scalpel                                    $4.35   \n",
       "\n",
       "                                                     Total Purchase Value  \n",
       "Item ID Item Name                                                          \n",
       "92      Final Critic                                               $59.99  \n",
       "178     Oathbreaker, Last Hope of the Breaking Storm               $50.76  \n",
       "82      Nirvana                                                    $44.10  \n",
       "145     Fiery Glass Crusader                                       $41.22  \n",
       "103     Singed Scalpel                                             $34.80  "
      ]
     },
     "execution_count": 10,
     "metadata": {},
     "output_type": "execute_result"
    }
   ],
   "source": []
  }
 ],
 "metadata": {
  "anaconda-cloud": {},
  "kernel_info": {
   "name": "python3"
  },
  "kernelspec": {
   "display_name": "Python [conda env:root] *",
   "language": "python",
   "name": "conda-root-py"
  },
  "language_info": {
   "codemirror_mode": {
    "name": "ipython",
    "version": 3
   },
   "file_extension": ".py",
   "mimetype": "text/x-python",
   "name": "python",
   "nbconvert_exporter": "python",
   "pygments_lexer": "ipython3",
   "version": "3.8.5"
  },
  "latex_envs": {
   "LaTeX_envs_menu_present": true,
   "autoclose": false,
   "autocomplete": true,
   "bibliofile": "biblio.bib",
   "cite_by": "apalike",
   "current_citInitial": 1,
   "eqLabelWithNumbers": true,
   "eqNumInitial": 1,
   "hotkeys": {
    "equation": "Ctrl-E",
    "itemize": "Ctrl-I"
   },
   "labels_anchors": false,
   "latex_user_defs": false,
   "report_style_numbering": false,
   "user_envs_cfg": false
  },
  "nteract": {
   "version": "0.2.0"
  }
 },
 "nbformat": 4,
 "nbformat_minor": 2
}
